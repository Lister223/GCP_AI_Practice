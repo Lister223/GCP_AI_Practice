{
 "cells": [
  {
   "cell_type": "code",
   "execution_count": 11,
   "id": "001fc0e3-4cbc-46d1-9f2a-a0a99d8fb83f",
   "metadata": {},
   "outputs": [],
   "source": [
    "import os\n",
    "from time import time\n",
    "from vertexai.generative_models import GenerativeModel, Part"
   ]
  },
  {
   "cell_type": "code",
   "execution_count": 13,
   "id": "c9ebddd2-6b19-4c65-9f73-14b9f9778fc6",
   "metadata": {},
   "outputs": [],
   "source": [
    "YOUR_VOICE = 'OUTPUT.wav'\n",
    "os.environ['GOOGLE_APPLICATION_CREDENTIALS'] = 'gen-lang-client-0000496465-a25308522ddc.json'\n",
    "\n",
    "model = GenerativeModel('gemini-2.0-flash-thinking-exp-1219')  # may vary model name\n",
    "\n",
    "generation_config = {\n",
    "    'max_output_tokens': 2000,\n",
    "    'temperature': 0,\n",
    "    'response_mime_type': 'application/json'\n",
    "}\n",
    "\n",
    "prompt = '''\n",
    "請幫我從wav檔中，將音訊轉為文字。\n",
    "'''"
   ]
  },
  {
   "cell_type": "code",
   "execution_count": 15,
   "id": "5f4bcb17-ebe3-4210-982e-eb4a84a93425",
   "metadata": {},
   "outputs": [
    {
     "name": "stdout",
     "output_type": "stream",
     "text": [
      "3.237 secs elapsed\n",
      "{\n",
      "\"transcript\": \"進行測試進行測試\"\n",
      "}\n",
      "prompt_token_count: 1017\n",
      "candidates_token_count: 13\n",
      "total_token_count: 1030\n",
      "\n"
     ]
    }
   ],
   "source": [
    "with open(YOUR_VOICE, 'rb') as f:\n",
    "    data = Part.from_data(data=f.read(), mime_type='audio/wav')\n",
    "\n",
    "start = time()\n",
    "\n",
    "r = model.generate_content(\n",
    "    [prompt, data],\n",
    "    generation_config=generation_config\n",
    ")\n",
    "\n",
    "print(f'{time()-start:.3f} secs elapsed')\n",
    "# print(json.loads(r.text))\n",
    "print(r.text)\n",
    "print(r.usage_metadata)"
   ]
  },
  {
   "cell_type": "code",
   "execution_count": null,
   "id": "f5ef2de7-fdfe-42cd-b446-150dc1eb7e79",
   "metadata": {},
   "outputs": [],
   "source": []
  }
 ],
 "metadata": {
  "kernelspec": {
   "display_name": "Python 3 (ipykernel)",
   "language": "python",
   "name": "python3"
  },
  "language_info": {
   "codemirror_mode": {
    "name": "ipython",
    "version": 3
   },
   "file_extension": ".py",
   "mimetype": "text/x-python",
   "name": "python",
   "nbconvert_exporter": "python",
   "pygments_lexer": "ipython3",
   "version": "3.12.7"
  }
 },
 "nbformat": 4,
 "nbformat_minor": 5
}
