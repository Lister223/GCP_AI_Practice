{
 "cells": [
  {
   "cell_type": "code",
   "execution_count": 23,
   "id": "a084d1ac-36eb-4ebb-bdfc-58e4ca5a228a",
   "metadata": {},
   "outputs": [],
   "source": [
    "import os\n",
    "from time import time\n",
    "from vertexai.generative_models import GenerativeModel, Part"
   ]
  },
  {
   "cell_type": "code",
   "execution_count": 39,
   "id": "ca117e70-00f9-4cf9-a02e-0132659e3327",
   "metadata": {},
   "outputs": [],
   "source": [
    "YOUR_JPG = '價目表.jpg'\n",
    "\n",
    "os.environ['GOOGLE_APPLICATION_CREDENTIALS'] = 'gen-lang-client-0000496465-a25308522ddc.json'\n",
    "model = GenerativeModel('gemini-2.0-flash-thinking-exp-1219')  # may vary model name\n",
    "\n",
    "generation_config = {\n",
    "    'max_output_tokens': 2000,\n",
    "    'temperature': 0.5,\n",
    "    'response_mime_type': 'application/json'\n",
    "}\n",
    "\n",
    "prompt = '''\n",
    "1.請先讀取菜單圖片，並儲存成json key value格式。\n",
    "2.請依據使用者輸入的餐點品項，從價目表中找尋價格，並計算總金額。\n",
    "3.請列出計算公式。\n",
    "'''"
   ]
  },
  {
   "cell_type": "code",
   "execution_count": 41,
   "id": "d92e89c0-e951-4f70-97fd-c0d5d540a4b3",
   "metadata": {},
   "outputs": [],
   "source": [
    "user_input = '我要1份素燥飯、麵線羹1大1小、小份蔬菜粥1碗，還有1份爆薑豆干'"
   ]
  },
  {
   "cell_type": "code",
   "execution_count": 43,
   "id": "b6002380-64fa-4931-83af-21ebe6ccf5c6",
   "metadata": {},
   "outputs": [
    {
     "name": "stdout",
     "output_type": "stream",
     "text": [
      "3.590 secs elapsed\n",
      "{\n",
      "  \"menu\": {\n",
      "    \"蔬菜粥\": {\n",
      "      \"小\": \"25\",\n",
      "      \"大\": \"35\"\n",
      "    },\n",
      "    \"素燥飯\": \"30\",\n",
      "    \"炒麵\": \"30\",\n",
      "    \"麵線羹\": {\n",
      "      \"小\": \"35\",\n",
      "      \"大\": \"50\"\n",
      "    },\n",
      "    \"當歸麵線\": \"40\",\n",
      "    \"養生麵線\": \"45\",\n",
      "    \"當歸湯\": \"30\",\n",
      "    \"養生菇湯\": \"30\",\n",
      "    \"爆薑豆干\": \"60\"\n",
      "  },\n",
      "  \"order\": {\n",
      "    \"素燥飯\": 1,\n",
      "    \"麵線羹_大\": 1,\n",
      "    \"麵線羹_小\": 1,\n",
      "    \"蔬菜粥_小\": 1,\n",
      "    \"爆薑豆干\": 1\n",
      "  },\n",
      "  \"total_price\": 190,\n",
      "  \"calculation\": \"30 (素燥飯) + 50 (麵線羹_大) + 35 (麵線羹_小) + 25 (蔬菜粥_小) + 60 (爆薑豆干) = 190\"\n",
      "}\n",
      "prompt_token_count: 344\n",
      "candidates_token_count: 286\n",
      "total_token_count: 630\n",
      "\n"
     ]
    }
   ],
   "source": [
    "with open(YOUR_JPG, 'rb') as f:\n",
    "    data = Part.from_data(data=f.read(), mime_type='image/jpeg')\n",
    "\n",
    "start = time()\n",
    "\n",
    "r = model.generate_content(\n",
    "    [prompt, data, user_input],\n",
    "    generation_config=generation_config\n",
    ")\n",
    "\n",
    "print(f'{time()-start:.3f} secs elapsed')\n",
    "# print(json.loads(r.text))\n",
    "print(r.text)\n",
    "print(r.usage_metadata)"
   ]
  }
 ],
 "metadata": {
  "kernelspec": {
   "display_name": "Python 3 (ipykernel)",
   "language": "python",
   "name": "python3"
  },
  "language_info": {
   "codemirror_mode": {
    "name": "ipython",
    "version": 3
   },
   "file_extension": ".py",
   "mimetype": "text/x-python",
   "name": "python",
   "nbconvert_exporter": "python",
   "pygments_lexer": "ipython3",
   "version": "3.12.7"
  }
 },
 "nbformat": 4,
 "nbformat_minor": 5
}
